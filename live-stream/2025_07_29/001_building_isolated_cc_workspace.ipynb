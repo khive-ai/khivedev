{
 "cells": [
  {
   "cell_type": "markdown",
   "id": "1f179d45",
   "metadata": {},
   "source": [
    "## Creating isolated claude code workspaces\n",
    "\n",
    "Using claude in claude code cli, you do not get to specify the finegrained specification for each Task agent, and a lot of times you will need to use `--dangerously-skip-permissions` to run the code. This is not ideal for production use."
   ]
  },
  {
   "cell_type": "markdown",
   "id": "bb5ee703",
   "metadata": {},
   "source": [
    "### 1. Understanding Claude Code configuration\n",
    "\n",
    "- claude code runs in a given workspace (directory), the essential settings is kept at `workspace/.claude/settings.json`\n",
    "- claude code also reads the `workspace/CLAUDE.md` as system prompt\n",
    "\n",
    "These configuration dictates how claude code will behave, "
   ]
  },
  {
   "cell_type": "code",
   "execution_count": null,
   "id": "2ae932b2",
   "metadata": {},
   "outputs": [],
   "source": [
    "\n",
    "\n",
    "\n",
    "\n"
   ]
  },
  {
   "cell_type": "code",
   "execution_count": null,
   "id": "d4080a85",
   "metadata": {},
   "outputs": [],
   "source": []
  },
  {
   "cell_type": "code",
   "execution_count": null,
   "id": "9ec50534",
   "metadata": {},
   "outputs": [],
   "source": []
  },
  {
   "cell_type": "code",
   "execution_count": null,
   "id": "a1544736",
   "metadata": {},
   "outputs": [],
   "source": []
  }
 ],
 "metadata": {
  "kernelspec": {
   "display_name": "khivedev",
   "language": "python",
   "name": "python3"
  },
  "language_info": {
   "name": "python",
   "version": "3.10.15"
  }
 },
 "nbformat": 4,
 "nbformat_minor": 5
}
