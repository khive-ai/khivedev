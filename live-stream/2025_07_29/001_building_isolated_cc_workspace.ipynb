{
 "cells": [
  {
   "cell_type": "markdown",
   "id": "1f179d45",
   "metadata": {},
   "source": [
    "## Creating isolated claude code workspaces\n",
    "\n",
    "Using claude in claude code cli, you do not get to specify the finegrained specification for each Task agent, and a lot of times you will need to use `--dangerously-skip-permissions` to run the code. This is not ideal for production use."
   ]
  },
  {
   "cell_type": "markdown",
   "id": "bb5ee703",
   "metadata": {},
   "source": [
    "### 1. Understanding Claude Code configuration\n",
    "\n",
    "- claude code runs in a given workspace (directory), the essential settings is kept at `workspace/.claude/settings.json`\n",
    "- claude code also reads the `workspace/CLAUDE.md` as system prompt\n",
    "\n",
    "These configuration dictates how claude code will behave, "
   ]
  },
  {
   "cell_type": "code",
   "execution_count": 3,
   "id": "2ae932b2",
   "metadata": {},
   "outputs": [],
   "source": [
    "agent_config = \".khive/agents/analyst\"\n",
    "REPO = \"/Users/lion/projects/khivedev\"\n",
    "CC_WORKSPACE = \".khive/workspaces\"\n",
    "FLOW_NAME = \"memory_mcp_flow0\"\n",
    "\n",
    "\n",
    "from pathlib import Path\n",
    "from typing import Literal\n",
    "from lionagi.utils import create_path\n",
    "from lionagi import iModel\n",
    "\n",
    "AgentRole = Literal[\n",
    "    \"orchestrator\",\n",
    "    \"analyst\",\n",
    "    \"architect\",\n",
    "    \"auditor\",\n",
    "    \"commentator\",\n",
    "    \"critic\",\n",
    "    \"implementer\",\n",
    "    \"innovator\",\n",
    "    \"researcher\",\n",
    "    \"reviewer\",\n",
    "    \"strategist\",\n",
    "    \"tester\",\n",
    "    \"theorist\",\n",
    "]\n",
    "\n",
    "\n",
    "def create_cc(\n",
    "    flow_name: str,\n",
    "    role: AgentRole,\n",
    "    agent_suffix: str = \"\",\n",
    "    model: str = \"sonnet\",\n",
    "    verbose_output: bool = True,\n",
    "    auto_finish: bool = False,\n",
    "):\n",
    "    \"\"\"Create Claude Code model instance for LionAGI operations.\"\"\"\n",
    "\n",
    "    params = {\"permission_mode\": \"acceptEdits\"}\n",
    "    if role == \"orchestrator\":\n",
    "        params[\"permission_mode\"] = \"bypassPermissions\"\n",
    "\n",
    "    elif role not in [\"tester\", \"reviewer\", \"architect\", \"implementer\"]:\n",
    "        params[\"ws\"] = f\"{CC_WORKSPACE}/{flow_name}/{role}{agent_suffix}\"\n",
    "        params[\"add_dir\"] = \"../../../../\"\n",
    "        text = Path(\n",
    "            f\"{REPO}/{CC_WORKSPACE}/agents/{role}/.claude/settings.json\"\n",
    "        ).read_text()\n",
    "        fp = create_path(\n",
    "            directory=f\"{REPO}/{CC_WORKSPACE}/{flow_name}/{role}{agent_suffix}/.claude\",\n",
    "            filename=\"settings.json\",\n",
    "            file_exist_ok=True,\n",
    "        )\n",
    "        fp.write_text(text)\n",
    "\n",
    "        # text = Path(\n",
    "        #     f\"{REPO}/{CC_WORKSPACE}/agents/{role}/.claude/.mcp.json\"\n",
    "        # ).read_text()\n",
    "        # fp = create_path(\n",
    "        #     directory=f\"{REPO}/{CC_WORKSPACE}/{flow_name}/{role}{agent_suffix}\",\n",
    "        #     filename=\".mcp.json\",\n",
    "        #     file_exist_ok=True,\n",
    "        # )\n",
    "        # fp.write_text(text)\n",
    "\n",
    "    return iModel(\n",
    "        provider=\"claude_code\",\n",
    "        endpoint=\"query_cli\",\n",
    "        model=model,\n",
    "        api_key=\"dummy_api_key\",\n",
    "        verbose_output=verbose_output,\n",
    "        cli_display_theme=\"dark\",\n",
    "        auto_finish=auto_finish,\n",
    "        repo=REPO,\n",
    "        **params,\n",
    "    )"
   ]
  },
  {
   "cell_type": "code",
   "execution_count": 4,
   "id": "d4080a85",
   "metadata": {},
   "outputs": [],
   "source": [
    "cc = create_cc(FLOW_NAME, role=\"analyst\")"
   ]
  },
  {
   "cell_type": "code",
   "execution_count": null,
   "id": "9ec50534",
   "metadata": {},
   "outputs": [],
   "source": []
  },
  {
   "cell_type": "code",
   "execution_count": null,
   "id": "a1544736",
   "metadata": {},
   "outputs": [],
   "source": []
  }
 ],
 "metadata": {
  "kernelspec": {
   "display_name": "khivedev",
   "language": "python",
   "name": "python3"
  },
  "language_info": {
   "codemirror_mode": {
    "name": "ipython",
    "version": 3
   },
   "file_extension": ".py",
   "mimetype": "text/x-python",
   "name": "python",
   "nbconvert_exporter": "python",
   "pygments_lexer": "ipython3",
   "version": "3.10.15"
  }
 },
 "nbformat": 4,
 "nbformat_minor": 5
}
