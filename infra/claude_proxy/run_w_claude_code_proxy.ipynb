{
 "cells": [
  {
   "cell_type": "code",
   "execution_count": 1,
   "id": "d2ceb407",
   "metadata": {},
   "outputs": [],
   "source": [
    "from lionagi.service.connections.endpoint_config import EndpointConfig\n",
    "from lionagi.service.imodel import Endpoint\n",
    "from lionagi.service.connections.providers.claude_code_cli import (\n",
    "    ClaudeCodeRequest,\n",
    ")\n",
    "\n",
    "claude_code_config = EndpointConfig(\n",
    "    name=\"claude_code_cli_proxy\",\n",
    "    provider=\"claude_code\",\n",
    "    base_url=\"http://localhost:8000/v1\",\n",
    "    endpoint=\"query\",\n",
    "    api_key=\"dummy_api_key\",\n",
    "    kwargs={\"model\": \"sonnet\"},\n",
    ")\n",
    "claude_code = Endpoint(claude_code_config)"
   ]
  },
  {
   "cell_type": "code",
   "execution_count": 2,
   "id": "5fc216f4",
   "metadata": {},
   "outputs": [
    {
     "name": "stderr",
     "output_type": "stream",
     "text": [
      "INFO:backoff:Backing off _make_request_with_backoff(...) for 0.5s (aiohttp.client_exceptions.ClientResponseError: 500, message='Internal Server Error', url='http://localhost:8000/v1/query')\n",
      "INFO:backoff:Backing off _make_request_with_backoff(...) for 1.2s (aiohttp.client_exceptions.ClientResponseError: 500, message='Internal Server Error', url='http://localhost:8000/v1/query')\n",
      "ERROR:backoff:Giving up _make_request_with_backoff(...) after 3 tries (aiohttp.client_exceptions.ClientResponseError: 500, message='Internal Server Error', url='http://localhost:8000/v1/query')\n"
     ]
    },
    {
     "ename": "ClientResponseError",
     "evalue": "500, message='Internal Server Error', url='http://localhost:8000/v1/query'",
     "output_type": "error",
     "traceback": [
      "\u001b[0;31m---------------------------------------------------------------------------\u001b[0m",
      "\u001b[0;31mClientResponseError\u001b[0m                       Traceback (most recent call last)",
      "Cell \u001b[0;32mIn[2], line 3\u001b[0m\n\u001b[1;32m      1\u001b[0m prompt \u001b[38;5;241m=\u001b[39m \u001b[38;5;124m\"\u001b[39m\u001b[38;5;124mreply in text only, Write a Python function to calculate the factorial of a number.\u001b[39m\u001b[38;5;124m\"\u001b[39m\n\u001b[0;32m----> 3\u001b[0m \u001b[38;5;28;01mawait\u001b[39;00m claude_code\u001b[38;5;241m.\u001b[39mcall(request\u001b[38;5;241m=\u001b[39mClaudeCodeRequest(prompt\u001b[38;5;241m=\u001b[39mprompt))\n",
      "File \u001b[0;32m~/lionagi/lionagi/service/connections/endpoint.py:248\u001b[0m, in \u001b[0;36mEndpoint.call\u001b[0;34m(self, request, cache_control, skip_payload_creation, **kwargs)\u001b[0m\n\u001b[1;32m    245\u001b[0m \u001b[38;5;28;01mif\u001b[39;00m \u001b[38;5;28mself\u001b[39m\u001b[38;5;241m.\u001b[39mretry_config:\n\u001b[1;32m    246\u001b[0m     \u001b[38;5;28;01mreturn\u001b[39;00m \u001b[38;5;28;01mawait\u001b[39;00m call_func(payload, headers, \u001b[38;5;241m*\u001b[39m\u001b[38;5;241m*\u001b[39mkwargs)\n\u001b[0;32m--> 248\u001b[0m \u001b[38;5;28;01mreturn\u001b[39;00m \u001b[38;5;28;01mawait\u001b[39;00m \u001b[38;5;28mself\u001b[39m\u001b[38;5;241m.\u001b[39m_call(payload, headers, \u001b[38;5;241m*\u001b[39m\u001b[38;5;241m*\u001b[39mkwargs)\n",
      "File \u001b[0;32m~/lionagi/lionagi/service/connections/endpoint.py:159\u001b[0m, in \u001b[0;36mEndpoint._call\u001b[0;34m(self, payload, headers, **kwargs)\u001b[0m\n\u001b[1;32m    158\u001b[0m \u001b[38;5;28;01masync\u001b[39;00m \u001b[38;5;28;01mdef\u001b[39;00m\u001b[38;5;250m \u001b[39m\u001b[38;5;21m_call\u001b[39m(\u001b[38;5;28mself\u001b[39m, payload: \u001b[38;5;28mdict\u001b[39m, headers: \u001b[38;5;28mdict\u001b[39m, \u001b[38;5;241m*\u001b[39m\u001b[38;5;241m*\u001b[39mkwargs):\n\u001b[0;32m--> 159\u001b[0m     \u001b[38;5;28;01mreturn\u001b[39;00m \u001b[38;5;28;01mawait\u001b[39;00m \u001b[38;5;28mself\u001b[39m\u001b[38;5;241m.\u001b[39m_call_aiohttp(\n\u001b[1;32m    160\u001b[0m         payload\u001b[38;5;241m=\u001b[39mpayload, headers\u001b[38;5;241m=\u001b[39mheaders, \u001b[38;5;241m*\u001b[39m\u001b[38;5;241m*\u001b[39mkwargs\n\u001b[1;32m    161\u001b[0m     )\n",
      "File \u001b[0;32m~/lionagi/lionagi/service/connections/endpoint.py:322\u001b[0m, in \u001b[0;36mEndpoint._call_aiohttp\u001b[0;34m(self, payload, headers, **kwargs)\u001b[0m\n\u001b[1;32m    313\u001b[0m backoff_handler \u001b[38;5;241m=\u001b[39m backoff\u001b[38;5;241m.\u001b[39mon_exception(\n\u001b[1;32m    314\u001b[0m     backoff\u001b[38;5;241m.\u001b[39mexpo,\n\u001b[1;32m    315\u001b[0m     (aiohttp\u001b[38;5;241m.\u001b[39mClientError, asyncio\u001b[38;5;241m.\u001b[39mTimeoutError),\n\u001b[0;32m   (...)\u001b[0m\n\u001b[1;32m    318\u001b[0m     jitter\u001b[38;5;241m=\u001b[39mbackoff\u001b[38;5;241m.\u001b[39mfull_jitter,\n\u001b[1;32m    319\u001b[0m )\n\u001b[1;32m    321\u001b[0m \u001b[38;5;66;03m# Apply the decorator at runtime\u001b[39;00m\n\u001b[0;32m--> 322\u001b[0m \u001b[38;5;28;01mreturn\u001b[39;00m \u001b[38;5;28;01mawait\u001b[39;00m backoff_handler(_make_request_with_backoff)()\n",
      "File \u001b[0;32m~/lionagi/.venv/lib/python3.10/site-packages/backoff/_async.py:151\u001b[0m, in \u001b[0;36mretry_exception.<locals>.retry\u001b[0;34m(*args, **kwargs)\u001b[0m\n\u001b[1;32m    142\u001b[0m details \u001b[38;5;241m=\u001b[39m {\n\u001b[1;32m    143\u001b[0m     \u001b[38;5;124m\"\u001b[39m\u001b[38;5;124mtarget\u001b[39m\u001b[38;5;124m\"\u001b[39m: target,\n\u001b[1;32m    144\u001b[0m     \u001b[38;5;124m\"\u001b[39m\u001b[38;5;124margs\u001b[39m\u001b[38;5;124m\"\u001b[39m: args,\n\u001b[0;32m   (...)\u001b[0m\n\u001b[1;32m    147\u001b[0m     \u001b[38;5;124m\"\u001b[39m\u001b[38;5;124melapsed\u001b[39m\u001b[38;5;124m\"\u001b[39m: elapsed,\n\u001b[1;32m    148\u001b[0m }\n\u001b[1;32m    150\u001b[0m \u001b[38;5;28;01mtry\u001b[39;00m:\n\u001b[0;32m--> 151\u001b[0m     ret \u001b[38;5;241m=\u001b[39m \u001b[38;5;28;01mawait\u001b[39;00m target(\u001b[38;5;241m*\u001b[39margs, \u001b[38;5;241m*\u001b[39m\u001b[38;5;241m*\u001b[39mkwargs)\n\u001b[1;32m    152\u001b[0m \u001b[38;5;28;01mexcept\u001b[39;00m exception \u001b[38;5;28;01mas\u001b[39;00m e:\n\u001b[1;32m    153\u001b[0m     giveup_result \u001b[38;5;241m=\u001b[39m \u001b[38;5;28;01mawait\u001b[39;00m giveup(e)\n",
      "File \u001b[0;32m~/lionagi/lionagi/service/connections/endpoint.py:278\u001b[0m, in \u001b[0;36mEndpoint._call_aiohttp.<locals>._make_request_with_backoff\u001b[0;34m()\u001b[0m\n\u001b[1;32m    276\u001b[0m \u001b[38;5;66;03m# Check for rate limit or server errors that should be retried\u001b[39;00m\n\u001b[1;32m    277\u001b[0m \u001b[38;5;28;01mif\u001b[39;00m response\u001b[38;5;241m.\u001b[39mstatus \u001b[38;5;241m==\u001b[39m \u001b[38;5;241m429\u001b[39m \u001b[38;5;129;01mor\u001b[39;00m response\u001b[38;5;241m.\u001b[39mstatus \u001b[38;5;241m>\u001b[39m\u001b[38;5;241m=\u001b[39m \u001b[38;5;241m500\u001b[39m:\n\u001b[0;32m--> 278\u001b[0m     \u001b[43mresponse\u001b[49m\u001b[38;5;241;43m.\u001b[39;49m\u001b[43mraise_for_status\u001b[49m\u001b[43m(\u001b[49m\u001b[43m)\u001b[49m  \u001b[38;5;66;03m# This will be caught by backoff\u001b[39;00m\n\u001b[1;32m    279\u001b[0m \u001b[38;5;28;01melif\u001b[39;00m response\u001b[38;5;241m.\u001b[39mstatus \u001b[38;5;241m!=\u001b[39m \u001b[38;5;241m200\u001b[39m:\n\u001b[1;32m    280\u001b[0m     \u001b[38;5;66;03m# Try to get error details from response body\u001b[39;00m\n\u001b[1;32m    281\u001b[0m     \u001b[38;5;28;01mtry\u001b[39;00m:\n",
      "File \u001b[0;32m~/lionagi/.venv/lib/python3.10/site-packages/aiohttp/client_reqrep.py:629\u001b[0m, in \u001b[0;36mClientResponse.raise_for_status\u001b[0;34m(self)\u001b[0m\n\u001b[1;32m    626\u001b[0m \u001b[38;5;28;01mif\u001b[39;00m \u001b[38;5;129;01mnot\u001b[39;00m \u001b[38;5;28mself\u001b[39m\u001b[38;5;241m.\u001b[39m_in_context:\n\u001b[1;32m    627\u001b[0m     \u001b[38;5;28mself\u001b[39m\u001b[38;5;241m.\u001b[39mrelease()\n\u001b[0;32m--> 629\u001b[0m \u001b[38;5;28;01mraise\u001b[39;00m ClientResponseError(\n\u001b[1;32m    630\u001b[0m     \u001b[38;5;28mself\u001b[39m\u001b[38;5;241m.\u001b[39mrequest_info,\n\u001b[1;32m    631\u001b[0m     \u001b[38;5;28mself\u001b[39m\u001b[38;5;241m.\u001b[39mhistory,\n\u001b[1;32m    632\u001b[0m     status\u001b[38;5;241m=\u001b[39m\u001b[38;5;28mself\u001b[39m\u001b[38;5;241m.\u001b[39mstatus,\n\u001b[1;32m    633\u001b[0m     message\u001b[38;5;241m=\u001b[39m\u001b[38;5;28mself\u001b[39m\u001b[38;5;241m.\u001b[39mreason,\n\u001b[1;32m    634\u001b[0m     headers\u001b[38;5;241m=\u001b[39m\u001b[38;5;28mself\u001b[39m\u001b[38;5;241m.\u001b[39mheaders,\n\u001b[1;32m    635\u001b[0m )\n",
      "\u001b[0;31mClientResponseError\u001b[0m: 500, message='Internal Server Error', url='http://localhost:8000/v1/query'"
     ]
    }
   ],
   "source": [
    "prompt = \"reply in text only, Write a Python function to calculate the factorial of a number.\"\n",
    "\n",
    "await claude_code.call(request=ClaudeCodeRequest(prompt=prompt))"
   ]
  },
  {
   "cell_type": "code",
   "execution_count": null,
   "id": "4c173814",
   "metadata": {},
   "outputs": [],
   "source": [
    "from lionagi import iModel\n",
    "\n",
    "claude_code = iModel(endpoint=claude_code)"
   ]
  },
  {
   "cell_type": "code",
   "execution_count": null,
   "id": "fe6dcca4",
   "metadata": {},
   "outputs": [
    {
     "name": "stderr",
     "output_type": "stream",
     "text": [
      "API call failed: 404, message=\"Request failed with status 404: {'detail': 'Not Found'}\", url='http://localhost:8000/v1/query'\n"
     ]
    }
   ],
   "source": [
    "result = await claude_code.invoke(\n",
    "    messages=[\n",
    "        {\n",
    "            \"role\": \"user\",\n",
    "            \"content\": \"reply in text only, Write a Python function to calculate the factorial of a number.\",\n",
    "        }\n",
    "    ]\n",
    ")"
   ]
  },
  {
   "cell_type": "code",
   "execution_count": null,
   "id": "88db9e9a",
   "metadata": {},
   "outputs": [],
   "source": [
    "result.response"
   ]
  }
 ],
 "metadata": {
  "kernelspec": {
   "display_name": "lionagi",
   "language": "python",
   "name": "python3"
  },
  "language_info": {
   "codemirror_mode": {
    "name": "ipython",
    "version": 3
   },
   "file_extension": ".py",
   "mimetype": "text/x-python",
   "name": "python",
   "nbconvert_exporter": "python",
   "pygments_lexer": "ipython3",
   "version": "3.10.15"
  }
 },
 "nbformat": 4,
 "nbformat_minor": 5
}
